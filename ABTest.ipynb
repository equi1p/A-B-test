{
 "cells": [
  {
   "cell_type": "markdown",
   "id": "6913d839-ade0-43ef-a203-617da70e132d",
   "metadata": {},
   "source": [
    "## Анализ эффективности маркетинговой кампании"
   ]
  },
  {
   "cell_type": "code",
   "execution_count": 41,
   "id": "7fff6434-60a7-4d12-b272-9fa8223431e9",
   "metadata": {},
   "outputs": [],
   "source": [
    "import numpy as np\n",
    "import pandas as pd\n",
    "import kagglehub\n",
    "import pingouin as pg\n",
    "import seaborn as sns\n",
    "import matplotlib.pyplot as plt\n",
    "import scipy.stats as st"
   ]
  },
  {
   "cell_type": "markdown",
   "id": "01271a9f-9c5b-4eed-9a9e-fdeb6742b8ae",
   "metadata": {},
   "source": [
    "Даны **два датасета**, в которых представлены результаты А/В эксперимента. Будем считать, что выборки сформированы случайным образом и эксперимент проведен корректно (в одинаковых условиях для обеих групп). В датасетах посчитаны метрики, показывающие эффективность двух маркетинговых кампаний (тестовой и контрольной). Необходимо определить, **насколько тестовая кампания эффективнее или не эффективнее контрольной**."
   ]
  },
  {
   "cell_type": "markdown",
   "id": "99ffdc93-075a-4559-9d48-f17760342c4d",
   "metadata": {},
   "source": [
    "### 1. Предварительная обработка данных"
   ]
  },
  {
   "cell_type": "code",
   "execution_count": 56,
   "id": "5606fc3c-a5af-4733-bcf4-5505cda92df8",
   "metadata": {},
   "outputs": [
    {
     "name": "stdout",
     "output_type": "stream",
     "text": [
      "Warning: Looks like you're using an outdated `kagglehub` version (installed: 0.3.12), please consider upgrading to the latest version (0.3.13).\n",
      "Path to dataset files: C:\\Users\\kirill\\.cache\\kagglehub\\datasets\\amirmotefaker\\ab-testing-dataset\\versions\\1\n"
     ]
    }
   ],
   "source": [
    "# Загружаю датасет\n",
    "path = kagglehub.dataset_download(\"amirmotefaker/ab-testing-dataset\")\n",
    "print(\"Path to dataset files:\", path)"
   ]
  },
  {
   "cell_type": "code",
   "execution_count": 59,
   "id": "08f27da4-5084-4c74-9525-1172e57fbee2",
   "metadata": {},
   "outputs": [],
   "source": [
    "# Формирую тестовую и контрольную группы\n",
    "control = pd.read_csv(path + '/control_group.csv', sep=';')\n",
    "test = pd.read_csv(path + '/test_group.csv', sep=';')"
   ]
  },
  {
   "cell_type": "code",
   "execution_count": 58,
   "id": "9d0910ec-010c-4f5e-848a-7e30e4448336",
   "metadata": {},
   "outputs": [
    {
     "name": "stdout",
     "output_type": "stream",
     "text": [
      "<class 'pandas.core.frame.DataFrame'>\n",
      "RangeIndex: 30 entries, 0 to 29\n",
      "Data columns (total 10 columns):\n",
      " #   Column               Non-Null Count  Dtype  \n",
      "---  ------               --------------  -----  \n",
      " 0   Campaign Name        30 non-null     object \n",
      " 1   Date                 30 non-null     object \n",
      " 2   Spend [USD]          30 non-null     int64  \n",
      " 3   # of Impressions     29 non-null     float64\n",
      " 4   Reach                29 non-null     float64\n",
      " 5   # of Website Clicks  29 non-null     float64\n",
      " 6   # of Searches        29 non-null     float64\n",
      " 7   # of View Content    29 non-null     float64\n",
      " 8   # of Add to Cart     29 non-null     float64\n",
      " 9   # of Purchase        29 non-null     float64\n",
      "dtypes: float64(7), int64(1), object(2)\n",
      "memory usage: 2.5+ KB\n"
     ]
    }
   ],
   "source": [
    "control.info()"
   ]
  },
  {
   "cell_type": "code",
   "execution_count": 45,
   "id": "09505a73-43ef-471a-abe9-0973aeed36b6",
   "metadata": {},
   "outputs": [
    {
     "name": "stdout",
     "output_type": "stream",
     "text": [
      "<class 'pandas.core.frame.DataFrame'>\n",
      "RangeIndex: 30 entries, 0 to 29\n",
      "Data columns (total 10 columns):\n",
      " #   Column               Non-Null Count  Dtype \n",
      "---  ------               --------------  ----- \n",
      " 0   Campaign Name        30 non-null     object\n",
      " 1   Date                 30 non-null     object\n",
      " 2   Spend [USD]          30 non-null     int64 \n",
      " 3   # of Impressions     30 non-null     int64 \n",
      " 4   Reach                30 non-null     int64 \n",
      " 5   # of Website Clicks  30 non-null     int64 \n",
      " 6   # of Searches        30 non-null     int64 \n",
      " 7   # of View Content    30 non-null     int64 \n",
      " 8   # of Add to Cart     30 non-null     int64 \n",
      " 9   # of Purchase        30 non-null     int64 \n",
      "dtypes: int64(8), object(2)\n",
      "memory usage: 2.5+ KB\n"
     ]
    }
   ],
   "source": [
    "test.info()"
   ]
  },
  {
   "cell_type": "code",
   "execution_count": 64,
   "id": "b50ea3ee-1779-4e0f-9cfc-dda70cfb9f55",
   "metadata": {},
   "outputs": [],
   "source": [
    "# Формирую один датасет для последующего расчета метрик\n",
    "total = pd.concat([control, test])"
   ]
  },
  {
   "cell_type": "code",
   "execution_count": 65,
   "id": "b6449e0e-20ee-4982-94be-0a6439e35b76",
   "metadata": {},
   "outputs": [],
   "source": [
    "# Форматирую колонки для удобства\n",
    "total = total.rename(columns={'Campaign Name': 'Campaign_Name',\n",
    "                                  'Spend [USD]':'Spend_USD',\n",
    "                                  '# of Impressions':'n_of_Impressions',\n",
    "                                  '# of Website Clicks': 'n_of_Website_Clicks',\n",
    "                                  '# of Searches':'n_of_Searches',\n",
    "                                  '# of View Content':'n_of_View_Content',\n",
    "                                  '# of Add to Cart':'n_of_Add_to_Cart',\n",
    "                                  '# of Purchase': 'n_of_Purchase'})"
   ]
  },
  {
   "cell_type": "code",
   "execution_count": 66,
   "id": "0f87f88a-a596-457a-a7ce-2632be76d4ff",
   "metadata": {},
   "outputs": [],
   "source": [
    "# Привожу дату в корректный формат, а также немного форматирую итоговой датасет\n",
    "total.Date = pd.to_datetime(total.Date, format = '%d.%m.%Y')\n",
    "total = total.sort_values(by = 'Date').reset_index()\n",
    "del total['index']"
   ]
  },
  {
   "cell_type": "code",
   "execution_count": 69,
   "id": "4e4e3c9c-01df-43e9-9fe3-f0a6f17c6b5c",
   "metadata": {},
   "outputs": [
    {
     "name": "stdout",
     "output_type": "stream",
     "text": [
      "<class 'pandas.core.frame.DataFrame'>\n",
      "RangeIndex: 60 entries, 0 to 59\n",
      "Data columns (total 10 columns):\n",
      " #   Column               Non-Null Count  Dtype         \n",
      "---  ------               --------------  -----         \n",
      " 0   Campaign_Name        60 non-null     object        \n",
      " 1   Date                 60 non-null     datetime64[ns]\n",
      " 2   Spend_USD            60 non-null     int64         \n",
      " 3   n_of_Impressions     59 non-null     float64       \n",
      " 4   Reach                59 non-null     float64       \n",
      " 5   n_of_Website_Clicks  59 non-null     float64       \n",
      " 6   n_of_Searches        59 non-null     float64       \n",
      " 7   n_of_View_Content    59 non-null     float64       \n",
      " 8   n_of_Add_to_Cart     59 non-null     float64       \n",
      " 9   n_of_Purchase        59 non-null     float64       \n",
      "dtypes: datetime64[ns](1), float64(7), int64(1), object(1)\n",
      "memory usage: 4.8+ KB\n"
     ]
    }
   ],
   "source": [
    "# Смотрим итоговый датасет\n",
    "total.info()"
   ]
  },
  {
   "cell_type": "code",
   "execution_count": 70,
   "id": "c6afbbb1-0f41-4fe8-87b8-602781fcb55f",
   "metadata": {},
   "outputs": [
    {
     "data": {
      "text/plain": [
       "Campaign_Name          0\n",
       "Date                   0\n",
       "Spend_USD              0\n",
       "n_of_Impressions       1\n",
       "Reach                  1\n",
       "n_of_Website_Clicks    1\n",
       "n_of_Searches          1\n",
       "n_of_View_Content      1\n",
       "n_of_Add_to_Cart       1\n",
       "n_of_Purchase          1\n",
       "dtype: int64"
      ]
     },
     "execution_count": 70,
     "metadata": {},
     "output_type": "execute_result"
    }
   ],
   "source": [
    "# В отдельных столбцах есть пропущенные значения\n",
    "total.isnull().sum()"
   ]
  },
  {
   "cell_type": "code",
   "execution_count": 71,
   "id": "efa6bd0e-b0d8-4d2a-8469-74c2320c6551",
   "metadata": {},
   "outputs": [
    {
     "data": {
      "text/html": [
       "<div>\n",
       "<style scoped>\n",
       "    .dataframe tbody tr th:only-of-type {\n",
       "        vertical-align: middle;\n",
       "    }\n",
       "\n",
       "    .dataframe tbody tr th {\n",
       "        vertical-align: top;\n",
       "    }\n",
       "\n",
       "    .dataframe thead th {\n",
       "        text-align: right;\n",
       "    }\n",
       "</style>\n",
       "<table border=\"1\" class=\"dataframe\">\n",
       "  <thead>\n",
       "    <tr style=\"text-align: right;\">\n",
       "      <th></th>\n",
       "      <th>Campaign_Name</th>\n",
       "      <th>Date</th>\n",
       "      <th>Spend_USD</th>\n",
       "      <th>n_of_Impressions</th>\n",
       "      <th>Reach</th>\n",
       "      <th>n_of_Website_Clicks</th>\n",
       "      <th>n_of_Searches</th>\n",
       "      <th>n_of_View_Content</th>\n",
       "      <th>n_of_Add_to_Cart</th>\n",
       "      <th>n_of_Purchase</th>\n",
       "    </tr>\n",
       "  </thead>\n",
       "  <tbody>\n",
       "    <tr>\n",
       "      <th>8</th>\n",
       "      <td>Control Campaign</td>\n",
       "      <td>2019-08-05</td>\n",
       "      <td>1835</td>\n",
       "      <td>NaN</td>\n",
       "      <td>NaN</td>\n",
       "      <td>NaN</td>\n",
       "      <td>NaN</td>\n",
       "      <td>NaN</td>\n",
       "      <td>NaN</td>\n",
       "      <td>NaN</td>\n",
       "    </tr>\n",
       "  </tbody>\n",
       "</table>\n",
       "</div>"
      ],
      "text/plain": [
       "      Campaign_Name       Date  Spend_USD  n_of_Impressions  Reach  \\\n",
       "8  Control Campaign 2019-08-05       1835               NaN    NaN   \n",
       "\n",
       "   n_of_Website_Clicks  n_of_Searches  n_of_View_Content  n_of_Add_to_Cart  \\\n",
       "8                  NaN            NaN                NaN               NaN   \n",
       "\n",
       "   n_of_Purchase  \n",
       "8            NaN  "
      ]
     },
     "execution_count": 71,
     "metadata": {},
     "output_type": "execute_result"
    }
   ],
   "source": [
    "# Найдем строку с пропущенными значениями. \n",
    "total[total.isnull().any(axis=1)]"
   ]
  },
  {
   "cell_type": "code",
   "execution_count": 73,
   "id": "11912404-f7ce-4a33-9dc0-da053e52cca4",
   "metadata": {},
   "outputs": [
    {
     "name": "stderr",
     "output_type": "stream",
     "text": [
      "C:\\Users\\kirill\\AppData\\Local\\Temp\\ipykernel_19744\\169019343.py:2: FutureWarning: The behavior of 'isin' with dtype=datetime64[ns] and castable values (e.g. strings) is deprecated. In a future version, these will not be considered matching by isin. Explicitly cast to the appropriate dtype before calling isin instead.\n",
      "  total = total.query('Date != \"2019-08-05\"')\n"
     ]
    }
   ],
   "source": [
    "# Это 5 августа 2019 года. Уберем эту дату из тестирования для корректности резульататов\n",
    "total = total.query('Date != \"2019-08-05\"')"
   ]
  },
  {
   "cell_type": "code",
   "execution_count": 75,
   "id": "f95e2c62-3204-4cc9-b3be-8ad5221c9be8",
   "metadata": {},
   "outputs": [
    {
     "name": "stdout",
     "output_type": "stream",
     "text": [
      "<class 'pandas.core.frame.DataFrame'>\n",
      "Index: 58 entries, 0 to 59\n",
      "Data columns (total 10 columns):\n",
      " #   Column               Non-Null Count  Dtype         \n",
      "---  ------               --------------  -----         \n",
      " 0   Campaign_Name        58 non-null     object        \n",
      " 1   Date                 58 non-null     datetime64[ns]\n",
      " 2   Spend_USD            58 non-null     int64         \n",
      " 3   n_of_Impressions     58 non-null     float64       \n",
      " 4   Reach                58 non-null     float64       \n",
      " 5   n_of_Website_Clicks  58 non-null     float64       \n",
      " 6   n_of_Searches        58 non-null     float64       \n",
      " 7   n_of_View_Content    58 non-null     float64       \n",
      " 8   n_of_Add_to_Cart     58 non-null     float64       \n",
      " 9   n_of_Purchase        58 non-null     float64       \n",
      "dtypes: datetime64[ns](1), float64(7), int64(1), object(1)\n",
      "memory usage: 5.0+ KB\n"
     ]
    }
   ],
   "source": [
    "total.info()"
   ]
  },
  {
   "cell_type": "markdown",
   "id": "7854f2e0-951e-4319-b21c-077036cf8f9d",
   "metadata": {},
   "source": [
    "### 2. Определение целевых и прокси метрик для анализа эффективности маркетинговых кампаний"
   ]
  },
  {
   "cell_type": "markdown",
   "id": "09275499-cc4f-4f44-85d7-46958afd5956",
   "metadata": {},
   "source": [
    "##### Целевые метрики:  \n",
    "1. Стоимость привлечения пользователя (общие затраты на кампанию / количество покупок)\n",
    "2. Конверсия в оплату (покупки/охват)\n",
    "\n",
    "\n",
    "##### Прокси метрики:  \n",
    "1. Общее число кликов\n",
    "2. Число пользователей, добавивших товар в корзину\n",
    "3. Промежуточные коневрсии (Показы - Клики, Клики - Просмотр контента, Просмотры - добавление в корзину)"
   ]
  },
  {
   "cell_type": "code",
   "execution_count": 82,
   "id": "8b6e97a5-259c-4081-81eb-22f1b95bb7af",
   "metadata": {},
   "outputs": [],
   "source": [
    "# Для тестовой и контрольной группы считаем метрики для последующего подсчета конверсионных метрик\n",
    "metrics = total.groupby(['Campaign_Name'], as_index=False) \\\n",
    "     .agg({'Spend_USD':'sum',\n",
    "           'n_of_Impressions':'sum',\n",
    "           'Reach':'sum',\n",
    "           'n_of_Website_Clicks':'sum',\n",
    "           'n_of_View_Content':'sum',\n",
    "           'n_of_Add_to_Cart':'sum',\n",
    "           'n_of_Purchase':'sum'})"
   ]
  },
  {
   "cell_type": "code",
   "execution_count": 84,
   "id": "7d438fe9-bfb2-40f4-b1f4-deaa81d8c13f",
   "metadata": {},
   "outputs": [
    {
     "data": {
      "text/html": [
       "<div>\n",
       "<style scoped>\n",
       "    .dataframe tbody tr th:only-of-type {\n",
       "        vertical-align: middle;\n",
       "    }\n",
       "\n",
       "    .dataframe tbody tr th {\n",
       "        vertical-align: top;\n",
       "    }\n",
       "\n",
       "    .dataframe thead th {\n",
       "        text-align: right;\n",
       "    }\n",
       "</style>\n",
       "<table border=\"1\" class=\"dataframe\">\n",
       "  <thead>\n",
       "    <tr style=\"text-align: right;\">\n",
       "      <th></th>\n",
       "      <th>Campaign_Name</th>\n",
       "      <th>Spend_USD</th>\n",
       "      <th>n_of_Impressions</th>\n",
       "      <th>Reach</th>\n",
       "      <th>n_of_Website_Clicks</th>\n",
       "      <th>n_of_View_Content</th>\n",
       "      <th>n_of_Add_to_Cart</th>\n",
       "      <th>n_of_Purchase</th>\n",
       "    </tr>\n",
       "  </thead>\n",
       "  <tbody>\n",
       "    <tr>\n",
       "      <th>0</th>\n",
       "      <td>Control Campaign</td>\n",
       "      <td>66818</td>\n",
       "      <td>3177233.0</td>\n",
       "      <td>2576503.0</td>\n",
       "      <td>154303.0</td>\n",
       "      <td>56370.0</td>\n",
       "      <td>37700.0</td>\n",
       "      <td>15161.0</td>\n",
       "    </tr>\n",
       "    <tr>\n",
       "      <th>1</th>\n",
       "      <td>Test Campaign</td>\n",
       "      <td>74595</td>\n",
       "      <td>2123249.0</td>\n",
       "      <td>1509609.0</td>\n",
       "      <td>175107.0</td>\n",
       "      <td>54882.0</td>\n",
       "      <td>25490.0</td>\n",
       "      <td>14869.0</td>\n",
       "    </tr>\n",
       "  </tbody>\n",
       "</table>\n",
       "</div>"
      ],
      "text/plain": [
       "      Campaign_Name  Spend_USD  n_of_Impressions      Reach  \\\n",
       "0  Control Campaign      66818         3177233.0  2576503.0   \n",
       "1     Test Campaign      74595         2123249.0  1509609.0   \n",
       "\n",
       "   n_of_Website_Clicks  n_of_View_Content  n_of_Add_to_Cart  n_of_Purchase  \n",
       "0             154303.0            56370.0           37700.0        15161.0  \n",
       "1             175107.0            54882.0           25490.0        14869.0  "
      ]
     },
     "execution_count": 84,
     "metadata": {},
     "output_type": "execute_result"
    }
   ],
   "source": [
    "metrics"
   ]
  },
  {
   "cell_type": "code",
   "execution_count": 98,
   "id": "9e3e2de2-d9a4-4f00-bbc1-84b19e87c133",
   "metadata": {},
   "outputs": [],
   "source": [
    "# Рассчитываем целевые и вспомогательные конверсионные метрики\n",
    "metrics['CR_pay'] = metrics.n_of_Purchase / metrics.n_of_Impressions * 100 # конверсия из показов рекламы в покупку\n",
    "metrics['CR_cart'] = metrics.n_of_Add_to_Cart / metrics.n_of_View_Content * 100 # конверсия из просмотра контента в добавление в корзину\n",
    "metrics['CR_view'] = metrics.n_of_View_Content / metrics.n_of_Website_Clicks * 100 # конверсия из кликов на сайте в просмотр контента\n",
    "metrics['CTR'] = metrics.n_of_Website_Clicks / metrics.n_of_Impressions * 100 # конверсия из показов объявлений в клики на сайте\n",
    "metrics['CPA'] = metrics.Spend_USD / metrics.n_of_Purchase # стоимость привлечения клиента\n",
    "metrics['n_not_Purchase'] = metrics.n_of_Impressions - metrics.n_of_Purchase # количество не перешедших в покупку пользователей"
   ]
  },
  {
   "cell_type": "code",
   "execution_count": 99,
   "id": "ef3aa7da-c2c1-4722-b0be-9bc0ba9e0c69",
   "metadata": {
    "scrolled": true
   },
   "outputs": [
    {
     "data": {
      "text/html": [
       "<div>\n",
       "<style scoped>\n",
       "    .dataframe tbody tr th:only-of-type {\n",
       "        vertical-align: middle;\n",
       "    }\n",
       "\n",
       "    .dataframe tbody tr th {\n",
       "        vertical-align: top;\n",
       "    }\n",
       "\n",
       "    .dataframe thead th {\n",
       "        text-align: right;\n",
       "    }\n",
       "</style>\n",
       "<table border=\"1\" class=\"dataframe\">\n",
       "  <thead>\n",
       "    <tr style=\"text-align: right;\">\n",
       "      <th></th>\n",
       "      <th>Campaign_Name</th>\n",
       "      <th>Spend_USD</th>\n",
       "      <th>n_of_Impressions</th>\n",
       "      <th>Reach</th>\n",
       "      <th>n_of_Website_Clicks</th>\n",
       "      <th>n_of_View_Content</th>\n",
       "      <th>n_of_Add_to_Cart</th>\n",
       "      <th>n_of_Purchase</th>\n",
       "      <th>CR_pay</th>\n",
       "      <th>CR_cart</th>\n",
       "      <th>CR_view</th>\n",
       "      <th>CTR</th>\n",
       "      <th>CPA</th>\n",
       "      <th>n_not_Purchase</th>\n",
       "    </tr>\n",
       "  </thead>\n",
       "  <tbody>\n",
       "    <tr>\n",
       "      <th>0</th>\n",
       "      <td>Control Campaign</td>\n",
       "      <td>66818</td>\n",
       "      <td>3177233.0</td>\n",
       "      <td>2576503.0</td>\n",
       "      <td>154303.0</td>\n",
       "      <td>56370.0</td>\n",
       "      <td>37700.0</td>\n",
       "      <td>15161.0</td>\n",
       "      <td>0.477176</td>\n",
       "      <td>66.879546</td>\n",
       "      <td>36.532018</td>\n",
       "      <td>4.856521</td>\n",
       "      <td>4.407229</td>\n",
       "      <td>3162072.0</td>\n",
       "    </tr>\n",
       "    <tr>\n",
       "      <th>1</th>\n",
       "      <td>Test Campaign</td>\n",
       "      <td>74595</td>\n",
       "      <td>2123249.0</td>\n",
       "      <td>1509609.0</td>\n",
       "      <td>175107.0</td>\n",
       "      <td>54882.0</td>\n",
       "      <td>25490.0</td>\n",
       "      <td>14869.0</td>\n",
       "      <td>0.700295</td>\n",
       "      <td>46.445100</td>\n",
       "      <td>31.341979</td>\n",
       "      <td>8.247125</td>\n",
       "      <td>5.016814</td>\n",
       "      <td>2108380.0</td>\n",
       "    </tr>\n",
       "  </tbody>\n",
       "</table>\n",
       "</div>"
      ],
      "text/plain": [
       "      Campaign_Name  Spend_USD  n_of_Impressions      Reach  \\\n",
       "0  Control Campaign      66818         3177233.0  2576503.0   \n",
       "1     Test Campaign      74595         2123249.0  1509609.0   \n",
       "\n",
       "   n_of_Website_Clicks  n_of_View_Content  n_of_Add_to_Cart  n_of_Purchase  \\\n",
       "0             154303.0            56370.0           37700.0        15161.0   \n",
       "1             175107.0            54882.0           25490.0        14869.0   \n",
       "\n",
       "     CR_pay    CR_cart    CR_view       CTR       CPA  n_not_Purchase  \n",
       "0  0.477176  66.879546  36.532018  4.856521  4.407229       3162072.0  \n",
       "1  0.700295  46.445100  31.341979  8.247125  5.016814       2108380.0  "
      ]
     },
     "execution_count": 99,
     "metadata": {},
     "output_type": "execute_result"
    }
   ],
   "source": [
    "metrics"
   ]
  },
  {
   "cell_type": "markdown",
   "id": "a7e316ba-dac3-49c6-aa90-7743516c2a85",
   "metadata": {},
   "source": [
    "### 3. А/В тестирование целевых метрик (CR_pay, количество покупок)"
   ]
  },
  {
   "cell_type": "markdown",
   "id": "e95b67ac-bf51-4592-b2eb-a02bf84f4c62",
   "metadata": {},
   "source": [
    "#### 3.1. Конверсия в покупку"
   ]
  },
  {
   "cell_type": "code",
   "execution_count": 192,
   "id": "93242120-5f73-4ff6-b349-405398d82c88",
   "metadata": {},
   "outputs": [
    {
     "data": {
      "text/html": [
       "<div>\n",
       "<style scoped>\n",
       "    .dataframe tbody tr th:only-of-type {\n",
       "        vertical-align: middle;\n",
       "    }\n",
       "\n",
       "    .dataframe tbody tr th {\n",
       "        vertical-align: top;\n",
       "    }\n",
       "\n",
       "    .dataframe thead th {\n",
       "        text-align: right;\n",
       "    }\n",
       "</style>\n",
       "<table border=\"1\" class=\"dataframe\">\n",
       "  <thead>\n",
       "    <tr style=\"text-align: right;\">\n",
       "      <th></th>\n",
       "      <th>Campaign_Name</th>\n",
       "      <th>CR_pay</th>\n",
       "    </tr>\n",
       "  </thead>\n",
       "  <tbody>\n",
       "    <tr>\n",
       "      <th>0</th>\n",
       "      <td>Control Campaign</td>\n",
       "      <td>0.477176</td>\n",
       "    </tr>\n",
       "    <tr>\n",
       "      <th>1</th>\n",
       "      <td>Test Campaign</td>\n",
       "      <td>0.700295</td>\n",
       "    </tr>\n",
       "  </tbody>\n",
       "</table>\n",
       "</div>"
      ],
      "text/plain": [
       "      Campaign_Name    CR_pay\n",
       "0  Control Campaign  0.477176\n",
       "1     Test Campaign  0.700295"
      ]
     },
     "execution_count": 192,
     "metadata": {},
     "output_type": "execute_result"
    }
   ],
   "source": [
    "# Выведем значение метрики конверсия в покупку в тестовой и контрольной группах\n",
    "CR_pay = metrics[['Campaign_Name','CR_pay']]\n",
    "CR_pay"
   ]
  },
  {
   "cell_type": "code",
   "execution_count": 193,
   "id": "7b181b7a-c649-4d1e-b5b6-0c47f363f2fe",
   "metadata": {},
   "outputs": [],
   "source": [
    "# Посчитаем на сколько изменилась метрика в тестовой группе\n",
    "CR_pay = metrics[['Campaign_Name','CR_pay']]\n",
    "CR_control = CR_pay.query('Campaign_Name == \"Control Campaign\"').CR_pay.iloc[0]\n",
    "CR_test = CR_pay.query('Campaign_Name == \"Test Campaign\"').CR_pay.iloc[0]\n",
    "percent_of_change = round((CR_test - CR_control) / CR_control * 100,2)"
   ]
  },
  {
   "cell_type": "code",
   "execution_count": 191,
   "id": "b2716203-acb9-4ac7-8e1b-8ad5f08e83e9",
   "metadata": {},
   "outputs": [
    {
     "name": "stdout",
     "output_type": "stream",
     "text": [
      "Значение конверсии в тестовой группе увеличилось на 46.76%.\n"
     ]
    }
   ],
   "source": [
    "print(f\"Значение конверсии в тестовой группе увеличилось на {percent_of_change}%.\") "
   ]
  },
  {
   "cell_type": "markdown",
   "id": "c80370e0-ffdd-42ca-a8a5-8f9eeff630c2",
   "metadata": {},
   "source": [
    "После подсчета метрик видно, что значение конверсии *увеличилось*. Необходимо проверить результат с помощью **АБ тестирования**.  "
   ]
  },
  {
   "cell_type": "markdown",
   "id": "e3060f6f-ab63-4475-b4bc-9c62750f70b2",
   "metadata": {},
   "source": [
    "Для начала сформулируем **гипотезы**:  \n",
    "$H0$ - значения конверсии в тестовой и контрольной группах равны  \n",
    "$H1$ - значения конверсии в тестовой и контрольной группах отличаются"
   ]
  },
  {
   "cell_type": "markdown",
   "id": "f5702977-b458-4789-bda9-762231937541",
   "metadata": {},
   "source": [
    "Определим **уровень значимости** (вероятность отклонить нулевую гипотезу, если она верна, то есть **ошибки первого рода**):   \n",
    "$\\alpha = 0.05$"
   ]
  },
  {
   "cell_type": "code",
   "execution_count": 196,
   "id": "5fba6f6e-7dad-4322-94ed-f8417253c645",
   "metadata": {},
   "outputs": [
    {
     "data": {
      "text/html": [
       "<div>\n",
       "<style scoped>\n",
       "    .dataframe tbody tr th:only-of-type {\n",
       "        vertical-align: middle;\n",
       "    }\n",
       "\n",
       "    .dataframe tbody tr th {\n",
       "        vertical-align: top;\n",
       "    }\n",
       "\n",
       "    .dataframe thead th {\n",
       "        text-align: right;\n",
       "    }\n",
       "</style>\n",
       "<table border=\"1\" class=\"dataframe\">\n",
       "  <thead>\n",
       "    <tr style=\"text-align: right;\">\n",
       "      <th></th>\n",
       "      <th>n_of_Purchase</th>\n",
       "      <th>n_not_Purchase</th>\n",
       "    </tr>\n",
       "  </thead>\n",
       "  <tbody>\n",
       "    <tr>\n",
       "      <th>0</th>\n",
       "      <td>15161.0</td>\n",
       "      <td>3162072.0</td>\n",
       "    </tr>\n",
       "    <tr>\n",
       "      <th>1</th>\n",
       "      <td>14869.0</td>\n",
       "      <td>2108380.0</td>\n",
       "    </tr>\n",
       "  </tbody>\n",
       "</table>\n",
       "</div>"
      ],
      "text/plain": [
       "   n_of_Purchase  n_not_Purchase\n",
       "0        15161.0       3162072.0\n",
       "1        14869.0       2108380.0"
      ]
     },
     "execution_count": 196,
     "metadata": {},
     "output_type": "execute_result"
    }
   ],
   "source": [
    "# Составим таблицу сопряженности\n",
    "chi_test_cr_pay = metrics[['n_of_Purchase', 'n_not_Purchase']]\n",
    "chi_test_cr_pay"
   ]
  },
  {
   "cell_type": "code",
   "execution_count": 197,
   "id": "46eb4df0-4bee-487b-ab5b-bf52befae1c5",
   "metadata": {},
   "outputs": [
    {
     "name": "stdout",
     "output_type": "stream",
     "text": [
      "Значение статистики = 1124.2950\n",
      "p-value = 0.0000\n",
      "Степени свободы = 1\n",
      "Ожидаемые значения:\n",
      " [[  18000.68503015 3159232.31496985]\n",
      " [  12029.31496985 2111219.68503015]]\n"
     ]
    }
   ],
   "source": [
    "#Используем критерий Хи-квадрат, для определения статзначимости различий между выборками\n",
    "stat, p, dof, expected = st.chi2_contingency(chi_test_cr_pay)\n",
    "print(f\"Значение статистики = {stat:.4f}\")\n",
    "print(f\"p-value = {p:.4f}\")\n",
    "print(f\"Степени свободы = {dof}\")\n",
    "print(\"Ожидаемые значения:\\n\", expected)"
   ]
  },
  {
   "cell_type": "markdown",
   "id": "a17a0520-ffce-4ba6-9dbb-3f51fb8a166c",
   "metadata": {},
   "source": [
    "По результатам теста $p-value < \\alpha$ **(равен нулю)**.  \n",
    "Есть основания отвергнуть нулевую гипотезу.  \n",
    "**Конверсия в покупку в тестовой группе увеличилась** (исходя из данных на 46%)"
   ]
  },
  {
   "cell_type": "markdown",
   "id": "860ff023-eda1-440e-920c-e37c8b028dc6",
   "metadata": {},
   "source": [
    "#### 3.2. Стоимость привлечения"
   ]
  },
  {
   "cell_type": "code",
   "execution_count": 357,
   "id": "eef05dca-bbc2-4b7f-bff1-d7cf95170aa2",
   "metadata": {},
   "outputs": [],
   "source": [
    "total['CPA'] = total.Spend_USD/total.n_of_Purchase"
   ]
  },
  {
   "cell_type": "code",
   "execution_count": 356,
   "id": "a4cb8915-4c26-4a71-92dc-2f3ab47b53b2",
   "metadata": {},
   "outputs": [],
   "source": [
    "CPA = total.groupby('Campaign_Name', as_index=False).agg({'CPA':'mean'})"
   ]
  },
  {
   "cell_type": "code",
   "execution_count": 358,
   "id": "31dbe908-408b-4a49-8273-4c3c7e4c9aa6",
   "metadata": {},
   "outputs": [
    {
     "data": {
      "text/html": [
       "<div>\n",
       "<style scoped>\n",
       "    .dataframe tbody tr th:only-of-type {\n",
       "        vertical-align: middle;\n",
       "    }\n",
       "\n",
       "    .dataframe tbody tr th {\n",
       "        vertical-align: top;\n",
       "    }\n",
       "\n",
       "    .dataframe thead th {\n",
       "        text-align: right;\n",
       "    }\n",
       "</style>\n",
       "<table border=\"1\" class=\"dataframe\">\n",
       "  <thead>\n",
       "    <tr style=\"text-align: right;\">\n",
       "      <th></th>\n",
       "      <th>Campaign_Name</th>\n",
       "      <th>CPA</th>\n",
       "    </tr>\n",
       "  </thead>\n",
       "  <tbody>\n",
       "    <tr>\n",
       "      <th>0</th>\n",
       "      <td>Control Campaign</td>\n",
       "      <td>5.052339</td>\n",
       "    </tr>\n",
       "    <tr>\n",
       "      <th>1</th>\n",
       "      <td>Test Campaign</td>\n",
       "      <td>5.999890</td>\n",
       "    </tr>\n",
       "  </tbody>\n",
       "</table>\n",
       "</div>"
      ],
      "text/plain": [
       "      Campaign_Name       CPA\n",
       "0  Control Campaign  5.052339\n",
       "1     Test Campaign  5.999890"
      ]
     },
     "execution_count": 358,
     "metadata": {},
     "output_type": "execute_result"
    }
   ],
   "source": [
    "CPA"
   ]
  },
  {
   "cell_type": "code",
   "execution_count": 359,
   "id": "67a89f53-276b-4e24-b29a-7c1af2d247e0",
   "metadata": {},
   "outputs": [],
   "source": [
    "count_control= CPA.query('Campaign_Name == \"Control Campaign\"').CPA.iloc[0]\n",
    "count_test = CPA.query('Campaign_Name == \"Test Campaign\"').CPA.iloc[0]\n",
    "percent_per_count = round(abs((count_test - count_control) / count_test * 100),2)"
   ]
  },
  {
   "cell_type": "code",
   "execution_count": 362,
   "id": "cf4f770a-0003-4956-9e25-4600140be1af",
   "metadata": {},
   "outputs": [
    {
     "name": "stdout",
     "output_type": "stream",
     "text": [
      "Стоимость привлечения пользователей в тестовой группе увеличилось на 15.79%.\n"
     ]
    }
   ],
   "source": [
    "print(f\"Стоимость привлечения пользователей в тестовой группе увеличилось на {percent_per_count}%.\") "
   ]
  },
  {
   "cell_type": "markdown",
   "id": "8578a69f-f708-48c8-88bb-abd703b656fb",
   "metadata": {},
   "source": [
    "Сформулируем **гипотезы**:  \n",
    "$H0$ - CPA в тестовой и контрольной группах равны  \n",
    "$H1$ - CPA тестовой и контрольной группах отличаются"
   ]
  },
  {
   "cell_type": "markdown",
   "id": "ceebea4e-d440-4054-ba39-14a19b8eb26d",
   "metadata": {},
   "source": [
    "Определим **уровень значимости** (вероятность отклонить нулевую гипотезу, если она верна, то есть **ошибки первого рода**):   \n",
    "$\\alpha = 0.05$"
   ]
  },
  {
   "cell_type": "markdown",
   "id": "5b4d5169-b884-465e-a9c9-07b811d0cb6e",
   "metadata": {},
   "source": [
    "Исследуем значения в двух выборках (проверим данные на аномалии, **нормальность** и **равенство дисперсий**)"
   ]
  },
  {
   "cell_type": "code",
   "execution_count": 363,
   "id": "f7e1fb8b-ab06-4286-94d2-90e9a9987e56",
   "metadata": {},
   "outputs": [],
   "source": [
    "CPA_control = total.query('Campaign_Name == \"Control Campaign\"').CPA\n",
    "CPA_test = total.query('Campaign_Name == \"Test Campaign\"').CPA"
   ]
  },
  {
   "cell_type": "code",
   "execution_count": 365,
   "id": "24b1ca12-bc71-4e20-82bc-7400e844c001",
   "metadata": {},
   "outputs": [
    {
     "data": {
      "image/png": "[encoded data removed]",
      "text/plain": [
       "<Figure size 1300x400 with 2 Axes>"
      ]
     },
     "metadata": {},
     "output_type": "display_data"
    }
   ],
   "source": [
    "# Посмотрим на распределение и аномалии в данных\n",
    "plt.figure(figsize=(13,4))\n",
    "plt.suptitle('Распределение количества покупок в группах')\n",
    "\n",
    "plt.subplot(1,2,1)\n",
    "plt.title('Контрольная')\n",
    "sns.histplot(data = CPA_control, bins=10, kde=True)\n",
    "plt.xlabel('')\n",
    "plt.ylabel('')\n",
    "\n",
    "plt.subplot(1,2,2)\n",
    "plt.title('Тестовая')\n",
    "sns.histplot(data = CPA_test, color='g', bins=10, kde=True)\n",
    "plt.xlabel('')\n",
    "plt.ylabel('')\n",
    "\n",
    "plt.show()"
   ]
  },
  {
   "cell_type": "markdown",
   "id": "b817a6b6-e806-4ce3-b5bb-e2269996937d",
   "metadata": {},
   "source": [
    "Проверим данные на **нормальность**"
   ]
  },
  {
   "cell_type": "code",
   "execution_count": 367,
   "id": "718c8710-8cc4-4c13-86ca-13b9bc160167",
   "metadata": {},
   "outputs": [
    {
     "data": {
      "text/html": [
       "<div>\n",
       "<style scoped>\n",
       "    .dataframe tbody tr th:only-of-type {\n",
       "        vertical-align: middle;\n",
       "    }\n",
       "\n",
       "    .dataframe tbody tr th {\n",
       "        vertical-align: top;\n",
       "    }\n",
       "\n",
       "    .dataframe thead th {\n",
       "        text-align: right;\n",
       "    }\n",
       "</style>\n",
       "<table border=\"1\" class=\"dataframe\">\n",
       "  <thead>\n",
       "    <tr style=\"text-align: right;\">\n",
       "      <th></th>\n",
       "      <th>W</th>\n",
       "      <th>pval</th>\n",
       "      <th>normal</th>\n",
       "    </tr>\n",
       "    <tr>\n",
       "      <th>Campaign_Name</th>\n",
       "      <th></th>\n",
       "      <th></th>\n",
       "      <th></th>\n",
       "    </tr>\n",
       "  </thead>\n",
       "  <tbody>\n",
       "    <tr>\n",
       "      <th>Control Campaign</th>\n",
       "      <td>0.913187</td>\n",
       "      <td>0.020564</td>\n",
       "      <td>False</td>\n",
       "    </tr>\n",
       "    <tr>\n",
       "      <th>Test Campaign</th>\n",
       "      <td>0.902387</td>\n",
       "      <td>0.011180</td>\n",
       "      <td>False</td>\n",
       "    </tr>\n",
       "  </tbody>\n",
       "</table>\n",
       "</div>"
      ],
      "text/plain": [
       "                         W      pval  normal\n",
       "Campaign_Name                               \n",
       "Control Campaign  0.913187  0.020564   False\n",
       "Test Campaign     0.902387  0.011180   False"
      ]
     },
     "execution_count": 367,
     "metadata": {},
     "output_type": "execute_result"
    }
   ],
   "source": [
    "# Используем метод Шапиро-Уилка для небольших выборок\n",
    "pg.normality(data = total, dv = 'CPA', group='Campaign_Name', method='shapiro')"
   ]
  },
  {
   "cell_type": "markdown",
   "id": "a3cf8720-535c-4c45-91f4-06b35407b107",
   "metadata": {},
   "source": [
    "Визуально оценим нормальность распределения выборок c помощью QQ-графиков"
   ]
  },
  {
   "cell_type": "code",
   "execution_count": 368,
   "id": "bf764551-3bfa-4e5c-9e26-6fe1047e4c8d",
   "metadata": {},
   "outputs": [
    {
     "data": {
      "image/png": "[encoded data removed]",
      "text/plain": [
       "<Figure size 1000x400 with 2 Axes>"
      ]
     },
     "metadata": {},
     "output_type": "display_data"
    }
   ],
   "source": [
    "plt.figure(figsize=(10,4))\n",
    "plt.suptitle('QQ-графики распределения двух выборок')\n",
    "\n",
    "plt.subplot(1,2,1)\n",
    "pg.qqplot(CPA_control)\n",
    "plt.title('Контрольная')\n",
    "plt.xlabel('')\n",
    "plt.ylabel('')\n",
    "\n",
    "plt.subplot(1,2,2)\n",
    "pg.qqplot(CPA_test)\n",
    "plt.title('Тестовая')\n",
    "plt.xlabel('')\n",
    "plt.ylabel('')\n",
    "\n",
    "plt.show()"
   ]
  },
  {
   "cell_type": "markdown",
   "id": "0e6ca59a-1526-4b4a-ae34-4d0462ccec05",
   "metadata": {},
   "source": [
    "Ненормальностью тестовой выборки можно принебречь, так как распределение **умеренно отличается от нормального**, а также при таком объеме выборки будет применятся **центральная предельная теорема**."
   ]
  },
  {
   "cell_type": "code",
   "execution_count": 370,
   "id": "b4857b4c-f9a4-4957-989c-bdc2d9181a8e",
   "metadata": {},
   "outputs": [
    {
     "data": {
      "text/html": [
       "<div>\n",
       "<style scoped>\n",
       "    .dataframe tbody tr th:only-of-type {\n",
       "        vertical-align: middle;\n",
       "    }\n",
       "\n",
       "    .dataframe tbody tr th {\n",
       "        vertical-align: top;\n",
       "    }\n",
       "\n",
       "    .dataframe thead th {\n",
       "        text-align: right;\n",
       "    }\n",
       "</style>\n",
       "<table border=\"1\" class=\"dataframe\">\n",
       "  <thead>\n",
       "    <tr style=\"text-align: right;\">\n",
       "      <th></th>\n",
       "      <th>W</th>\n",
       "      <th>pval</th>\n",
       "      <th>equal_var</th>\n",
       "    </tr>\n",
       "  </thead>\n",
       "  <tbody>\n",
       "    <tr>\n",
       "      <th>levene</th>\n",
       "      <td>1.683778</td>\n",
       "      <td>0.199743</td>\n",
       "      <td>True</td>\n",
       "    </tr>\n",
       "  </tbody>\n",
       "</table>\n",
       "</div>"
      ],
      "text/plain": [
       "               W      pval  equal_var\n",
       "levene  1.683778  0.199743       True"
      ]
     },
     "execution_count": 370,
     "metadata": {},
     "output_type": "execute_result"
    }
   ],
   "source": [
    "# Проверим равенство дисперсий выборок\n",
    "pg.homoscedasticity(data = total, dv = 'CPA', group='Campaign_Name', method='levene')"
   ]
  },
  {
   "cell_type": "markdown",
   "id": "4ec9a477-d4b6-41ed-b0cc-6fe5af08a25f",
   "metadata": {},
   "source": [
    "Так как дисперсии равны, а характер распределения нормальный (одна выборка близка к нормальному распределению) можно использовать **Т-тест Стьюдента** для проверки статзначимости различий между группами"
   ]
  },
  {
   "cell_type": "code",
   "execution_count": 374,
   "id": "0466ccc7-cc00-4434-a971-163b6edc330c",
   "metadata": {},
   "outputs": [
    {
     "data": {
      "text/html": [
       "<div>\n",
       "<style scoped>\n",
       "    .dataframe tbody tr th:only-of-type {\n",
       "        vertical-align: middle;\n",
       "    }\n",
       "\n",
       "    .dataframe tbody tr th {\n",
       "        vertical-align: top;\n",
       "    }\n",
       "\n",
       "    .dataframe thead th {\n",
       "        text-align: right;\n",
       "    }\n",
       "</style>\n",
       "<table border=\"1\" class=\"dataframe\">\n",
       "  <thead>\n",
       "    <tr style=\"text-align: right;\">\n",
       "      <th></th>\n",
       "      <th>T</th>\n",
       "      <th>dof</th>\n",
       "      <th>alternative</th>\n",
       "      <th>p-val</th>\n",
       "      <th>CI95%</th>\n",
       "      <th>cohen-d</th>\n",
       "      <th>BF10</th>\n",
       "      <th>power</th>\n",
       "    </tr>\n",
       "  </thead>\n",
       "  <tbody>\n",
       "    <tr>\n",
       "      <th>T-test</th>\n",
       "      <td>-1.45533</td>\n",
       "      <td>52.171876</td>\n",
       "      <td>two-sided</td>\n",
       "      <td>0.151569</td>\n",
       "      <td>[-2.25, 0.36]</td>\n",
       "      <td>0.382188</td>\n",
       "      <td>0.641</td>\n",
       "      <td>0.29856</td>\n",
       "    </tr>\n",
       "  </tbody>\n",
       "</table>\n",
       "</div>"
      ],
      "text/plain": [
       "              T        dof alternative     p-val          CI95%   cohen-d  \\\n",
       "T-test -1.45533  52.171876   two-sided  0.151569  [-2.25, 0.36]  0.382188   \n",
       "\n",
       "         BF10    power  \n",
       "T-test  0.641  0.29856  "
      ]
     },
     "execution_count": 374,
     "metadata": {},
     "output_type": "execute_result"
    }
   ],
   "source": [
    "pg.ttest(CPA_control, CPA_test, correction=True)"
   ]
  },
  {
   "cell_type": "markdown",
   "id": "3a2df726-8045-4092-8e9c-927886862476",
   "metadata": {},
   "source": [
    "По результатам теста $p-value > \\alpha$ **(0.151569)**.  \n",
    "Нет оснований отвергнуть нулевую гипотезу.  \n",
    "**CPA не изменилось**"
   ]
  },
  {
   "cell_type": "markdown",
   "id": "0da5d126-1fa6-479c-9092-dddaadb233e5",
   "metadata": {},
   "source": [
    "### ДАЛЕЕ ДЕЛАЮ ОПИСАТЕЛЬНЫЙ АНАЛИЗ ВСЕХ ОСТАЛЬНЫХ МЕТРИК, А ТАКЖЕ ВОРОНКУ ДЕЙСТВИЙ ПОЛЬЗОВАТЕЛЯ ДЛЯ АНАЛИЗА КОНВЕРСИИ НА КАЖДОМ ЭТАПЕ."
   ]
  }
 ],
 "metadata": {
  "kernelspec": {
   "display_name": "Python [conda env:base] *",
   "language": "python",
   "name": "conda-base-py"
  },
  "language_info": {
   "codemirror_mode": {
    "name": "ipython",
    "version": 3
   },
   "file_extension": ".py",
   "mimetype": "text/x-python",
   "name": "python",
   "nbconvert_exporter": "python",
   "pygments_lexer": "ipython3",
   "version": "3.13.5"
  }
 },
 "nbformat": 4,
 "nbformat_minor": 5
}
