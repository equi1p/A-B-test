{
 "cells": [
  {
   "cell_type": "code",
   "execution_count": 87,
   "id": "7fff6434-60a7-4d12-b272-9fa8223431e9",
   "metadata": {},
   "outputs": [],
   "source": [
    "import numpy as np\n",
    "import pandas as pd\n",
    "import kagglehub\n",
    "import pingouin as pg\n",
    "import seaborn as sns\n",
    "import matplotlib.pyplot as plt\n",
    "import scipy.stats as st"
   ]
  },
  {
   "cell_type": "code",
   "execution_count": 60,
   "id": "5606fc3c-a5af-4733-bcf4-5505cda92df8",
   "metadata": {},
   "outputs": [
    {
     "name": "stdout",
     "output_type": "stream",
     "text": [
      "Warning: Looks like you're using an outdated `kagglehub` version (installed: 0.3.12), please consider upgrading to the latest version (0.3.13).\n",
      "Path to dataset files: /Users/kirill/.cache/kagglehub/datasets/amirmotefaker/ab-testing-dataset/versions/1\n"
     ]
    }
   ],
   "source": [
    "# Download latest version\n",
    "path = kagglehub.dataset_download(\"amirmotefaker/ab-testing-dataset\")\n",
    "\n",
    "print(\"Path to dataset files:\", path)"
   ]
  },
  {
   "cell_type": "code",
   "execution_count": 61,
   "id": "08f27da4-5084-4c74-9525-1172e57fbee2",
   "metadata": {},
   "outputs": [],
   "source": [
    "control = pd.read_csv(path + '/control_group.csv', sep=';')\n",
    "test = pd.read_csv(path + '/test_group.csv', sep=';')"
   ]
  },
  {
   "cell_type": "code",
   "execution_count": 62,
   "id": "b6449e0e-20ee-4982-94be-0a6439e35b76",
   "metadata": {},
   "outputs": [],
   "source": [
    "control = control.rename(columns={'Campaign Name': 'Campaign_Name',\n",
    "                                  'Spend [USD]':'Spend_USD',\n",
    "                                  '# of Impressions':'n_of_Impressions',\n",
    "                                  '# of Website Clicks': 'n_of_Website_Clicks',\n",
    "                                  '# of Searches':'n_of_Searches',\n",
    "                                  '# of View Content':'n_of_View_Content',\n",
    "                                  '# of Add to Cart':'n_of_Add_to_Cart',\n",
    "                                  '# of Purchase': 'n_of_Purchase'})\n",
    "\n",
    "test = test.rename(columns={'Campaign Name': 'Campaign_Name',\n",
    "                                  'Spend [USD]':'Spend_USD',\n",
    "                                  '# of Impressions':'n_of_Impressions',\n",
    "                                  '# of Website Clicks': 'n_of_Website_Clicks',\n",
    "                                  '# of Searches':'n_of_Searches',\n",
    "                                  '# of View Content':'n_of_View_Content',\n",
    "                                  '# of Add to Cart':'n_of_Add_to_Cart',\n",
    "                                  '# of Purchase': 'n_of_Purchase'})"
   ]
  },
  {
   "cell_type": "code",
   "execution_count": 63,
   "id": "819cc1db-8e4e-4e7c-8c5d-d36b13b08e07",
   "metadata": {},
   "outputs": [],
   "source": [
    "total = pd.concat([control, test])"
   ]
  },
  {
   "cell_type": "code",
   "execution_count": 64,
   "id": "0f87f88a-a596-457a-a7ce-2632be76d4ff",
   "metadata": {},
   "outputs": [],
   "source": [
    "total.Date = pd.to_datetime(total.Date, format = '%d.%m.%Y')"
   ]
  },
  {
   "cell_type": "code",
   "execution_count": 65,
   "id": "4e4e3c9c-01df-43e9-9fe3-f0a6f17c6b5c",
   "metadata": {},
   "outputs": [],
   "source": [
    "total = total.sort_values(by = 'Date')"
   ]
  },
  {
   "cell_type": "code",
   "execution_count": 71,
   "id": "11912404-f7ce-4a33-9dc0-da053e52cca4",
   "metadata": {},
   "outputs": [],
   "source": [
    "total = total.query('Date != \"2019-08-05\"')"
   ]
  },
  {
   "cell_type": "code",
   "execution_count": 72,
   "id": "e3cb2410-7cd4-40f6-8d2c-9d4801a9a377",
   "metadata": {},
   "outputs": [],
   "source": [
    "total = total.reset_index()"
   ]
  },
  {
   "cell_type": "code",
   "execution_count": 73,
   "id": "ce957732-618a-43a1-8d79-3933386ba561",
   "metadata": {},
   "outputs": [],
   "source": [
    "del total['index']"
   ]
  },
  {
   "cell_type": "markdown",
   "id": "7854f2e0-951e-4319-b21c-077036cf8f9d",
   "metadata": {},
   "source": [
    "#### Определим **целевые** и **прокси** метрики для анализа эффективности маркетинговой компании:  \n",
    "##### Целевые метрики:  \n",
    "1. Количество покупок\n",
    "2. Конверсия в оплату (покупки/охват)\n",
    "\n",
    "\n",
    "##### Прокси метрики:  \n",
    "1. Общее число кликов\n",
    "2. Конверсия из показов в клики\n",
    "3. Число пользователей, добавивших товар в корзину\n",
    "4. Промежуточные коневрсии (Клики - Просмотр контента, Просмотры - добавление в корзину)\n",
    "5. Стоимость привлечения пользователя (общие затраты на кампанию / количество покупок)"
   ]
  },
  {
   "cell_type": "code",
   "execution_count": 75,
   "id": "8b6e97a5-259c-4081-81eb-22f1b95bb7af",
   "metadata": {},
   "outputs": [],
   "source": [
    "metrics = total.groupby(['Campaign_Name'], as_index=False) \\\n",
    "     .agg({'Spend_USD':'sum',\n",
    "           'n_of_Impressions':'sum',\n",
    "           'Reach':'sum',\n",
    "           'n_of_Website_Clicks':'sum',\n",
    "           'n_of_View_Content':'sum',\n",
    "           'n_of_Add_to_Cart':'sum',\n",
    "           'n_of_Purchase':'sum'})"
   ]
  },
  {
   "cell_type": "code",
   "execution_count": 80,
   "id": "9e3e2de2-d9a4-4f00-bbc1-84b19e87c133",
   "metadata": {},
   "outputs": [],
   "source": [
    "metrics['CR_pay'] = metrics.n_of_Purchase / metrics.Reach\n",
    "metrics['CR_view_to_add_to_cart'] = metrics.n_of_Add_to_Cart / metrics.n_of_View_Content\n",
    "metrics['CR_clicks_to_view'] = metrics.n_of_View_Content / metrics.n_of_Website_Clicks\n",
    "metrics['CR_impr_to_click'] = metrics.n_of_Website_Clicks / metrics.n_of_Impressions\n",
    "metrics['cost_per_user'] = metrics.Spend_USD / metrics.n_of_Purchase\n",
    "metrics['n_not_Purchase'] = metrics.Reach - metrics.n_of_Purchase"
   ]
  },
  {
   "cell_type": "code",
   "execution_count": 81,
   "id": "bdfda042-7cbc-4e81-b305-ebe0cf1e82f2",
   "metadata": {},
   "outputs": [],
   "source": [
    "metrics_1 = metrics[['Campaign_Name', 'n_of_Purchase', 'n_not_Purchase','CR_pay', 'n_of_Website_Clicks', 'n_of_Add_to_Cart', 'CR_clicks_to_view', 'CR_view_to_add_to_cart', 'cost_per_user']]"
   ]
  },
  {
   "cell_type": "code",
   "execution_count": 83,
   "id": "b9f98d17-d4be-4009-9bd4-aae31bb31d0a",
   "metadata": {},
   "outputs": [
    {
     "data": {
      "text/html": [
       "<div>\n",
       "<style scoped>\n",
       "    .dataframe tbody tr th:only-of-type {\n",
       "        vertical-align: middle;\n",
       "    }\n",
       "\n",
       "    .dataframe tbody tr th {\n",
       "        vertical-align: top;\n",
       "    }\n",
       "\n",
       "    .dataframe thead th {\n",
       "        text-align: right;\n",
       "    }\n",
       "</style>\n",
       "<table border=\"1\" class=\"dataframe\">\n",
       "  <thead>\n",
       "    <tr style=\"text-align: right;\">\n",
       "      <th></th>\n",
       "      <th>Campaign_Name</th>\n",
       "      <th>n_of_Purchase</th>\n",
       "      <th>n_not_Purchase</th>\n",
       "      <th>CR_pay</th>\n",
       "      <th>n_of_Website_Clicks</th>\n",
       "      <th>n_of_Add_to_Cart</th>\n",
       "      <th>CR_clicks_to_view</th>\n",
       "      <th>CR_view_to_add_to_cart</th>\n",
       "      <th>cost_per_user</th>\n",
       "    </tr>\n",
       "  </thead>\n",
       "  <tbody>\n",
       "    <tr>\n",
       "      <th>0</th>\n",
       "      <td>Control Campaign</td>\n",
       "      <td>15161.0</td>\n",
       "      <td>2561342.0</td>\n",
       "      <td>0.005884</td>\n",
       "      <td>154303.0</td>\n",
       "      <td>37700.0</td>\n",
       "      <td>0.36532</td>\n",
       "      <td>0.668795</td>\n",
       "      <td>4.407229</td>\n",
       "    </tr>\n",
       "    <tr>\n",
       "      <th>1</th>\n",
       "      <td>Test Campaign</td>\n",
       "      <td>14869.0</td>\n",
       "      <td>1494740.0</td>\n",
       "      <td>0.009850</td>\n",
       "      <td>175107.0</td>\n",
       "      <td>25490.0</td>\n",
       "      <td>0.31342</td>\n",
       "      <td>0.464451</td>\n",
       "      <td>5.016814</td>\n",
       "    </tr>\n",
       "  </tbody>\n",
       "</table>\n",
       "</div>"
      ],
      "text/plain": [
       "      Campaign_Name  n_of_Purchase  n_not_Purchase    CR_pay  \\\n",
       "0  Control Campaign        15161.0       2561342.0  0.005884   \n",
       "1     Test Campaign        14869.0       1494740.0  0.009850   \n",
       "\n",
       "   n_of_Website_Clicks  n_of_Add_to_Cart  CR_clicks_to_view  \\\n",
       "0             154303.0           37700.0            0.36532   \n",
       "1             175107.0           25490.0            0.31342   \n",
       "\n",
       "   CR_view_to_add_to_cart  cost_per_user  \n",
       "0                0.668795       4.407229  \n",
       "1                0.464451       5.016814  "
      ]
     },
     "execution_count": 83,
     "metadata": {},
     "output_type": "execute_result"
    }
   ],
   "source": [
    "metrics_1"
   ]
  },
  {
   "cell_type": "markdown",
   "id": "a7e316ba-dac3-49c6-aa90-7743516c2a85",
   "metadata": {},
   "source": [
    "#### Для А/В тестирования выбираем целевую метрику конверсию в покупку, а также общее число покупок."
   ]
  },
  {
   "cell_type": "markdown",
   "id": "e95b67ac-bf51-4592-b2eb-a02bf84f4c62",
   "metadata": {},
   "source": [
    "##### **Конверсия в покупку**"
   ]
  },
  {
   "cell_type": "code",
   "execution_count": 133,
   "id": "5fba6f6e-7dad-4322-94ed-f8417253c645",
   "metadata": {},
   "outputs": [],
   "source": [
    "chi_test_cr_pay = metrics_1[['n_of_Purchase', 'n_not_Purchase']]"
   ]
  },
  {
   "cell_type": "code",
   "execution_count": null,
   "id": "fa121dab-9e54-4768-809c-47006a21041c",
   "metadata": {},
   "outputs": [],
   "source": []
  },
  {
   "cell_type": "code",
   "execution_count": 134,
   "id": "d77bc97e-4ce4-4403-b8d1-c3cc4e2aef7c",
   "metadata": {},
   "outputs": [
    {
     "data": {
      "text/html": [
       "<div>\n",
       "<style scoped>\n",
       "    .dataframe tbody tr th:only-of-type {\n",
       "        vertical-align: middle;\n",
       "    }\n",
       "\n",
       "    .dataframe tbody tr th {\n",
       "        vertical-align: top;\n",
       "    }\n",
       "\n",
       "    .dataframe thead th {\n",
       "        text-align: right;\n",
       "    }\n",
       "</style>\n",
       "<table border=\"1\" class=\"dataframe\">\n",
       "  <thead>\n",
       "    <tr style=\"text-align: right;\">\n",
       "      <th></th>\n",
       "      <th>n_of_Purchase</th>\n",
       "      <th>n_not_Purchase</th>\n",
       "    </tr>\n",
       "  </thead>\n",
       "  <tbody>\n",
       "    <tr>\n",
       "      <th>0</th>\n",
       "      <td>15161.0</td>\n",
       "      <td>2561342.0</td>\n",
       "    </tr>\n",
       "    <tr>\n",
       "      <th>1</th>\n",
       "      <td>14869.0</td>\n",
       "      <td>1494740.0</td>\n",
       "    </tr>\n",
       "  </tbody>\n",
       "</table>\n",
       "</div>"
      ],
      "text/plain": [
       "   n_of_Purchase  n_not_Purchase\n",
       "0        15161.0       2561342.0\n",
       "1        14869.0       1494740.0"
      ]
     },
     "execution_count": 134,
     "metadata": {},
     "output_type": "execute_result"
    }
   ],
   "source": [
    "chi_test_cr_pay"
   ]
  },
  {
   "cell_type": "code",
   "execution_count": 155,
   "id": "b5954e97-3558-445e-9fa2-6d74b0e00727",
   "metadata": {},
   "outputs": [
    {
     "name": "stdout",
     "output_type": "stream",
     "text": [
      "Значение статистики = 2051.0053\n",
      "p-value = 0.0000\n",
      "Степени свободы = 1\n",
      "Ожидаемые значения:\n",
      " [[  18935.45382261 2557567.54617739]\n",
      " [  11094.54617739 1498514.45382261]]\n"
     ]
    }
   ],
   "source": [
    "stat, p, dof, expected = st.chi2_contingency(chi_test_cr_pay)\n",
    "print(f\"Значение статистики = {stat:.4f}\")\n",
    "print(f\"p-value = {p:.4f}\")\n",
    "print(f\"Степени свободы = {dof}\")\n",
    "print(\"Ожидаемые значения:\\n\", expected)"
   ]
  },
  {
   "cell_type": "code",
   "execution_count": null,
   "id": "44f327e1-5020-4fcc-8f15-179eb02b04e2",
   "metadata": {},
   "outputs": [],
   "source": []
  },
  {
   "cell_type": "markdown",
   "id": "0da5d126-1fa6-479c-9092-dddaadb233e5",
   "metadata": {},
   "source": [
    "### ДАЛЕЕ ДЕЛАЮ ОПИСАТЕЛЬНЫЙ АНАЛИЗ ВСЕХ ОСТАЛЬНЫХ МЕТРИК, А ТАКЖЕ ВОРОНКУ ДЕЙСТВИЙ ПОЛЬЗОВАТЕЛЯ ДЛЯ АНАЛИЗА КОНВЕРСИИ НА КАЖДОМ ЭТАПЕ."
   ]
  },
  {
   "cell_type": "code",
   "execution_count": null,
   "id": "0e0c161b-ac41-4009-817d-ff0831d767f4",
   "metadata": {},
   "outputs": [],
   "source": []
  }
 ],
 "metadata": {
  "kernelspec": {
   "display_name": "Python 3 (ipykernel)",
   "language": "python",
   "name": "python3"
  },
  "language_info": {
   "codemirror_mode": {
    "name": "ipython",
    "version": 3
   },
   "file_extension": ".py",
   "mimetype": "text/x-python",
   "name": "python",
   "nbconvert_exporter": "python",
   "pygments_lexer": "ipython3",
   "version": "3.11.7"
  }
 },
 "nbformat": 4,
 "nbformat_minor": 5
}
