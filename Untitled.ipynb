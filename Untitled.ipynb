{
 "cells": [
  {
   "cell_type": "code",
   "execution_count": 75,
   "id": "7fff6434-60a7-4d12-b272-9fa8223431e9",
   "metadata": {},
   "outputs": [],
   "source": [
    "import numpy as np\n",
    "import pandas as pd\n",
    "import kagglehub\n",
    "import pingouin as pg"
   ]
  },
  {
   "cell_type": "code",
   "execution_count": 2,
   "id": "5606fc3c-a5af-4733-bcf4-5505cda92df8",
   "metadata": {},
   "outputs": [
    {
     "name": "stdout",
     "output_type": "stream",
     "text": [
      "Warning: Looks like you're using an outdated `kagglehub` version (installed: 0.3.12), please consider upgrading to the latest version (0.3.13).\n",
      "Downloading from https://www.kaggle.com/api/v1/datasets/download/amirmotefaker/ab-testing-dataset?dataset_version_number=1...\n"
     ]
    },
    {
     "name": "stderr",
     "output_type": "stream",
     "text": [
      "100%|██████████| 2.07k/2.07k [00:00<00:00, 878kB/s]"
     ]
    },
    {
     "name": "stdout",
     "output_type": "stream",
     "text": [
      "Extracting files...\n",
      "Path to dataset files: C:\\Users\\kirill\\.cache\\kagglehub\\datasets\\amirmotefaker\\ab-testing-dataset\\versions\\1\n"
     ]
    },
    {
     "name": "stderr",
     "output_type": "stream",
     "text": [
      "\n"
     ]
    }
   ],
   "source": [
    "# Download latest version\n",
    "path = kagglehub.dataset_download(\"amirmotefaker/ab-testing-dataset\")\n",
    "\n",
    "print(\"Path to dataset files:\", path)"
   ]
  },
  {
   "cell_type": "code",
   "execution_count": 9,
   "id": "08f27da4-5084-4c74-9525-1172e57fbee2",
   "metadata": {},
   "outputs": [],
   "source": [
    "control = pd.read_csv(path + '\\\\control_group.csv', sep=';')\n",
    "test = pd.read_csv(path + '\\\\test_group.csv', sep=';')"
   ]
  },
  {
   "cell_type": "code",
   "execution_count": 37,
   "id": "b6449e0e-20ee-4982-94be-0a6439e35b76",
   "metadata": {},
   "outputs": [],
   "source": [
    "control = control.rename(columns={'Campaign Name': 'Campaign_Name',\n",
    "                                  'Spend [USD]':'Spend_USD',\n",
    "                                  '# of Impressions':'n_of_Impressions',\n",
    "                                  '# of Website Clicks': 'n_of_Website_Clicks',\n",
    "                                  '# of Searches':'n_of_Searches',\n",
    "                                  '# of View Content':'n_of_View_Content',\n",
    "                                  '# of Add to Cart':'n_of_Add_to_Cart',\n",
    "                                  '# of Purchase': 'n_of_Purchase'})\n",
    "\n",
    "test = test.rename(columns={'Campaign Name': 'Campaign_Name',\n",
    "                                  'Spend [USD]':'Spend_USD',\n",
    "                                  '# of Impressions':'n_of_Impressions',\n",
    "                                  '# of Website Clicks': 'n_of_Website_Clicks',\n",
    "                                  '# of Searches':'n_of_Searches',\n",
    "                                  '# of View Content':'n_of_View_Content',\n",
    "                                  '# of Add to Cart':'n_of_Add_to_Cart',\n",
    "                                  '# of Purchase': 'n_of_Purchase'})"
   ]
  },
  {
   "cell_type": "code",
   "execution_count": 38,
   "id": "21825521-499a-46b6-9bac-ade063a449b2",
   "metadata": {},
   "outputs": [
    {
     "data": {
      "text/html": [
       "<div>\n",
       "<style scoped>\n",
       "    .dataframe tbody tr th:only-of-type {\n",
       "        vertical-align: middle;\n",
       "    }\n",
       "\n",
       "    .dataframe tbody tr th {\n",
       "        vertical-align: top;\n",
       "    }\n",
       "\n",
       "    .dataframe thead th {\n",
       "        text-align: right;\n",
       "    }\n",
       "</style>\n",
       "<table border=\"1\" class=\"dataframe\">\n",
       "  <thead>\n",
       "    <tr style=\"text-align: right;\">\n",
       "      <th></th>\n",
       "      <th>Campaign_Name</th>\n",
       "      <th>Date</th>\n",
       "      <th>Spend_USD</th>\n",
       "      <th>n_of_Impressions</th>\n",
       "      <th>Reach</th>\n",
       "      <th>n_of_Website_Clicks</th>\n",
       "      <th>n_of_Searches</th>\n",
       "      <th>n_of_View_Content</th>\n",
       "      <th>n_of_Add_to_Cart</th>\n",
       "      <th>n_of_Purchase</th>\n",
       "    </tr>\n",
       "  </thead>\n",
       "  <tbody>\n",
       "    <tr>\n",
       "      <th>0</th>\n",
       "      <td>Control Campaign</td>\n",
       "      <td>1.08.2019</td>\n",
       "      <td>2280</td>\n",
       "      <td>82702.0</td>\n",
       "      <td>56930.0</td>\n",
       "      <td>7016.0</td>\n",
       "      <td>2290.0</td>\n",
       "      <td>2159.0</td>\n",
       "      <td>1819.0</td>\n",
       "      <td>618.0</td>\n",
       "    </tr>\n",
       "    <tr>\n",
       "      <th>1</th>\n",
       "      <td>Control Campaign</td>\n",
       "      <td>2.08.2019</td>\n",
       "      <td>1757</td>\n",
       "      <td>121040.0</td>\n",
       "      <td>102513.0</td>\n",
       "      <td>8110.0</td>\n",
       "      <td>2033.0</td>\n",
       "      <td>1841.0</td>\n",
       "      <td>1219.0</td>\n",
       "      <td>511.0</td>\n",
       "    </tr>\n",
       "    <tr>\n",
       "      <th>2</th>\n",
       "      <td>Control Campaign</td>\n",
       "      <td>3.08.2019</td>\n",
       "      <td>2343</td>\n",
       "      <td>131711.0</td>\n",
       "      <td>110862.0</td>\n",
       "      <td>6508.0</td>\n",
       "      <td>1737.0</td>\n",
       "      <td>1549.0</td>\n",
       "      <td>1134.0</td>\n",
       "      <td>372.0</td>\n",
       "    </tr>\n",
       "    <tr>\n",
       "      <th>3</th>\n",
       "      <td>Control Campaign</td>\n",
       "      <td>4.08.2019</td>\n",
       "      <td>1940</td>\n",
       "      <td>72878.0</td>\n",
       "      <td>61235.0</td>\n",
       "      <td>3065.0</td>\n",
       "      <td>1042.0</td>\n",
       "      <td>982.0</td>\n",
       "      <td>1183.0</td>\n",
       "      <td>340.0</td>\n",
       "    </tr>\n",
       "    <tr>\n",
       "      <th>4</th>\n",
       "      <td>Control Campaign</td>\n",
       "      <td>5.08.2019</td>\n",
       "      <td>1835</td>\n",
       "      <td>NaN</td>\n",
       "      <td>NaN</td>\n",
       "      <td>NaN</td>\n",
       "      <td>NaN</td>\n",
       "      <td>NaN</td>\n",
       "      <td>NaN</td>\n",
       "      <td>NaN</td>\n",
       "    </tr>\n",
       "  </tbody>\n",
       "</table>\n",
       "</div>"
      ],
      "text/plain": [
       "      Campaign_Name       Date  Spend_USD  n_of_Impressions     Reach  \\\n",
       "0  Control Campaign  1.08.2019       2280           82702.0   56930.0   \n",
       "1  Control Campaign  2.08.2019       1757          121040.0  102513.0   \n",
       "2  Control Campaign  3.08.2019       2343          131711.0  110862.0   \n",
       "3  Control Campaign  4.08.2019       1940           72878.0   61235.0   \n",
       "4  Control Campaign  5.08.2019       1835               NaN       NaN   \n",
       "\n",
       "   n_of_Website_Clicks  n_of_Searches  n_of_View_Content  n_of_Add_to_Cart  \\\n",
       "0               7016.0         2290.0             2159.0            1819.0   \n",
       "1               8110.0         2033.0             1841.0            1219.0   \n",
       "2               6508.0         1737.0             1549.0            1134.0   \n",
       "3               3065.0         1042.0              982.0            1183.0   \n",
       "4                  NaN            NaN                NaN               NaN   \n",
       "\n",
       "   n_of_Purchase  \n",
       "0          618.0  \n",
       "1          511.0  \n",
       "2          372.0  \n",
       "3          340.0  \n",
       "4            NaN  "
      ]
     },
     "execution_count": 38,
     "metadata": {},
     "output_type": "execute_result"
    }
   ],
   "source": [
    "control.head()"
   ]
  },
  {
   "cell_type": "code",
   "execution_count": 39,
   "id": "a97ebde3-37d0-4b7a-a5da-3f386ef785b1",
   "metadata": {},
   "outputs": [
    {
     "data": {
      "text/html": [
       "<div>\n",
       "<style scoped>\n",
       "    .dataframe tbody tr th:only-of-type {\n",
       "        vertical-align: middle;\n",
       "    }\n",
       "\n",
       "    .dataframe tbody tr th {\n",
       "        vertical-align: top;\n",
       "    }\n",
       "\n",
       "    .dataframe thead th {\n",
       "        text-align: right;\n",
       "    }\n",
       "</style>\n",
       "<table border=\"1\" class=\"dataframe\">\n",
       "  <thead>\n",
       "    <tr style=\"text-align: right;\">\n",
       "      <th></th>\n",
       "      <th>Campaign_Name</th>\n",
       "      <th>Date</th>\n",
       "      <th>Spend_USD</th>\n",
       "      <th>n_of_Impressions</th>\n",
       "      <th>Reach</th>\n",
       "      <th>n_of_Website_Clicks</th>\n",
       "      <th>n_of_Searches</th>\n",
       "      <th>n_of_View_Content</th>\n",
       "      <th>n_of_Add_to_Cart</th>\n",
       "      <th>n_of_Purchase</th>\n",
       "    </tr>\n",
       "  </thead>\n",
       "  <tbody>\n",
       "    <tr>\n",
       "      <th>0</th>\n",
       "      <td>Test Campaign</td>\n",
       "      <td>1.08.2019</td>\n",
       "      <td>3008</td>\n",
       "      <td>39550</td>\n",
       "      <td>35820</td>\n",
       "      <td>3038</td>\n",
       "      <td>1946</td>\n",
       "      <td>1069</td>\n",
       "      <td>894</td>\n",
       "      <td>255</td>\n",
       "    </tr>\n",
       "    <tr>\n",
       "      <th>1</th>\n",
       "      <td>Test Campaign</td>\n",
       "      <td>2.08.2019</td>\n",
       "      <td>2542</td>\n",
       "      <td>100719</td>\n",
       "      <td>91236</td>\n",
       "      <td>4657</td>\n",
       "      <td>2359</td>\n",
       "      <td>1548</td>\n",
       "      <td>879</td>\n",
       "      <td>677</td>\n",
       "    </tr>\n",
       "    <tr>\n",
       "      <th>2</th>\n",
       "      <td>Test Campaign</td>\n",
       "      <td>3.08.2019</td>\n",
       "      <td>2365</td>\n",
       "      <td>70263</td>\n",
       "      <td>45198</td>\n",
       "      <td>7885</td>\n",
       "      <td>2572</td>\n",
       "      <td>2367</td>\n",
       "      <td>1268</td>\n",
       "      <td>578</td>\n",
       "    </tr>\n",
       "    <tr>\n",
       "      <th>3</th>\n",
       "      <td>Test Campaign</td>\n",
       "      <td>4.08.2019</td>\n",
       "      <td>2710</td>\n",
       "      <td>78451</td>\n",
       "      <td>25937</td>\n",
       "      <td>4216</td>\n",
       "      <td>2216</td>\n",
       "      <td>1437</td>\n",
       "      <td>566</td>\n",
       "      <td>340</td>\n",
       "    </tr>\n",
       "    <tr>\n",
       "      <th>4</th>\n",
       "      <td>Test Campaign</td>\n",
       "      <td>5.08.2019</td>\n",
       "      <td>2297</td>\n",
       "      <td>114295</td>\n",
       "      <td>95138</td>\n",
       "      <td>5863</td>\n",
       "      <td>2106</td>\n",
       "      <td>858</td>\n",
       "      <td>956</td>\n",
       "      <td>768</td>\n",
       "    </tr>\n",
       "  </tbody>\n",
       "</table>\n",
       "</div>"
      ],
      "text/plain": [
       "   Campaign_Name       Date  Spend_USD  n_of_Impressions  Reach  \\\n",
       "0  Test Campaign  1.08.2019       3008             39550  35820   \n",
       "1  Test Campaign  2.08.2019       2542            100719  91236   \n",
       "2  Test Campaign  3.08.2019       2365             70263  45198   \n",
       "3  Test Campaign  4.08.2019       2710             78451  25937   \n",
       "4  Test Campaign  5.08.2019       2297            114295  95138   \n",
       "\n",
       "   n_of_Website_Clicks  n_of_Searches  n_of_View_Content  n_of_Add_to_Cart  \\\n",
       "0                 3038           1946               1069               894   \n",
       "1                 4657           2359               1548               879   \n",
       "2                 7885           2572               2367              1268   \n",
       "3                 4216           2216               1437               566   \n",
       "4                 5863           2106                858               956   \n",
       "\n",
       "   n_of_Purchase  \n",
       "0            255  \n",
       "1            677  \n",
       "2            578  \n",
       "3            340  \n",
       "4            768  "
      ]
     },
     "execution_count": 39,
     "metadata": {},
     "output_type": "execute_result"
    }
   ],
   "source": [
    "test.head()"
   ]
  },
  {
   "cell_type": "code",
   "execution_count": 67,
   "id": "55716fb6-7095-46ab-a47e-0c6b61b7f14c",
   "metadata": {},
   "outputs": [],
   "source": [
    "total = pd.concat([control, test])"
   ]
  },
  {
   "cell_type": "code",
   "execution_count": 72,
   "id": "0f87f88a-a596-457a-a7ce-2632be76d4ff",
   "metadata": {},
   "outputs": [
    {
     "name": "stderr",
     "output_type": "stream",
     "text": [
      "C:\\Users\\kirill\\AppData\\Local\\Temp\\ipykernel_11164\\528944394.py:1: UserWarning: Parsing dates in %d.%m.%Y format when dayfirst=False (the default) was specified. Pass `dayfirst=True` or specify a format to silence this warning.\n",
      "  total.Date = total.Date.apply(pd.to_datetime)\n"
     ]
    }
   ],
   "source": [
    "total.Date = total.Date.apply(pd.to_datetime)"
   ]
  },
  {
   "cell_type": "code",
   "execution_count": 73,
   "id": "4e4e3c9c-01df-43e9-9fe3-f0a6f17c6b5c",
   "metadata": {},
   "outputs": [],
   "source": [
    "total = total.sort_values(by = 'Date')"
   ]
  },
  {
   "cell_type": "markdown",
   "id": "306e0d1f-70a0-45c4-8e1d-9b3ac56bfa4f",
   "metadata": {},
   "source": [
    "#### Сформируем гипотезу 1\n",
    "$H0$ - Среднее количество трат в тестовой группе не изменилось\n",
    "$H1$ - Значения изменились."
   ]
  },
  {
   "cell_type": "code",
   "execution_count": 76,
   "id": "4a703592-fb67-434a-b668-e44fa904eadd",
   "metadata": {},
   "outputs": [
    {
     "data": {
      "text/html": [
       "<div>\n",
       "<style scoped>\n",
       "    .dataframe tbody tr th:only-of-type {\n",
       "        vertical-align: middle;\n",
       "    }\n",
       "\n",
       "    .dataframe tbody tr th {\n",
       "        vertical-align: top;\n",
       "    }\n",
       "\n",
       "    .dataframe thead th {\n",
       "        text-align: right;\n",
       "    }\n",
       "</style>\n",
       "<table border=\"1\" class=\"dataframe\">\n",
       "  <thead>\n",
       "    <tr style=\"text-align: right;\">\n",
       "      <th></th>\n",
       "      <th>W</th>\n",
       "      <th>pval</th>\n",
       "      <th>normal</th>\n",
       "    </tr>\n",
       "    <tr>\n",
       "      <th>Campaign_Name</th>\n",
       "      <th></th>\n",
       "      <th></th>\n",
       "      <th></th>\n",
       "    </tr>\n",
       "  </thead>\n",
       "  <tbody>\n",
       "    <tr>\n",
       "      <th>Control Campaign</th>\n",
       "      <td>0.955117</td>\n",
       "      <td>0.231277</td>\n",
       "      <td>True</td>\n",
       "    </tr>\n",
       "    <tr>\n",
       "      <th>Test Campaign</th>\n",
       "      <td>0.944077</td>\n",
       "      <td>0.117148</td>\n",
       "      <td>True</td>\n",
       "    </tr>\n",
       "  </tbody>\n",
       "</table>\n",
       "</div>"
      ],
      "text/plain": [
       "                         W      pval  normal\n",
       "Campaign_Name                               \n",
       "Control Campaign  0.955117  0.231277    True\n",
       "Test Campaign     0.944077  0.117148    True"
      ]
     },
     "execution_count": 76,
     "metadata": {},
     "output_type": "execute_result"
    }
   ],
   "source": [
    "pg.normality(data = total, dv = 'Spend_USD', group='Campaign_Name')"
   ]
  },
  {
   "cell_type": "code",
   "execution_count": 63,
   "id": "a5220fc0-5c6b-43be-80ba-5a3e98cc2a3b",
   "metadata": {},
   "outputs": [
    {
     "data": {
      "text/plain": [
       "control_spend    2288.433333\n",
       "test_spend       2563.066667\n",
       "dtype: float64"
      ]
     },
     "execution_count": 63,
     "metadata": {},
     "output_type": "execute_result"
    }
   ],
   "source": [
    "metrics.mean()"
   ]
  },
  {
   "cell_type": "code",
   "execution_count": 82,
   "id": "97d2e00f-b7b0-472a-8da2-444c9bed4fb9",
   "metadata": {},
   "outputs": [
    {
     "data": {
      "text/plain": [
       "<Axes: xlabel='Theoretical quantiles', ylabel='Ordered quantiles'>"
      ]
     },
     "execution_count": 82,
     "metadata": {},
     "output_type": "execute_result"
    },
    {
     "data": {
      "image/png": "[encoded data removed]",
      "text/plain": [
       "<Figure size 640x480 with 1 Axes>"
      ]
     },
     "metadata": {},
     "output_type": "display_data"
    }
   ],
   "source": [
    "pg.qqplot(total.query('Campaign_Name == \"Test Campaign\"').Spend_USD)"
   ]
  },
  {
   "cell_type": "code",
   "execution_count": 83,
   "id": "6f65e6fe-370b-4c45-84b8-21c78ab7e80e",
   "metadata": {},
   "outputs": [
    {
     "data": {
      "text/plain": [
       "<Axes: xlabel='Theoretical quantiles', ylabel='Ordered quantiles'>"
      ]
     },
     "execution_count": 83,
     "metadata": {},
     "output_type": "execute_result"
    },
    {
     "data": {
      "image/png": "[encoded data removed]",
      "text/plain": [
       "<Figure size 640x480 with 1 Axes>"
      ]
     },
     "metadata": {},
     "output_type": "display_data"
    }
   ],
   "source": [
    "pg.qqplot(total.query('Campaign_Name == \"Control Campaign\"').Spend_USD)"
   ]
  },
  {
   "cell_type": "code",
   "execution_count": 84,
   "id": "134ff462-a864-464f-a708-181d4ad4dcb2",
   "metadata": {},
   "outputs": [
    {
     "data": {
      "text/html": [
       "<div>\n",
       "<style scoped>\n",
       "    .dataframe tbody tr th:only-of-type {\n",
       "        vertical-align: middle;\n",
       "    }\n",
       "\n",
       "    .dataframe tbody tr th {\n",
       "        vertical-align: top;\n",
       "    }\n",
       "\n",
       "    .dataframe thead th {\n",
       "        text-align: right;\n",
       "    }\n",
       "</style>\n",
       "<table border=\"1\" class=\"dataframe\">\n",
       "  <thead>\n",
       "    <tr style=\"text-align: right;\">\n",
       "      <th></th>\n",
       "      <th>W</th>\n",
       "      <th>pval</th>\n",
       "      <th>equal_var</th>\n",
       "    </tr>\n",
       "  </thead>\n",
       "  <tbody>\n",
       "    <tr>\n",
       "      <th>levene</th>\n",
       "      <td>0.065826</td>\n",
       "      <td>0.798422</td>\n",
       "      <td>True</td>\n",
       "    </tr>\n",
       "  </tbody>\n",
       "</table>\n",
       "</div>"
      ],
      "text/plain": [
       "               W      pval  equal_var\n",
       "levene  0.065826  0.798422       True"
      ]
     },
     "execution_count": 84,
     "metadata": {},
     "output_type": "execute_result"
    }
   ],
   "source": [
    "pg.homoscedasticity(data = total, dv = 'Spend_USD', group='Campaign_Name')"
   ]
  },
  {
   "cell_type": "code",
   "execution_count": 86,
   "id": "373faa2d-206e-4c6b-afb7-f295fc869c85",
   "metadata": {},
   "outputs": [],
   "source": [
    "spend_control = total.query('Campaign_Name == \"Control Campaign\"').Spend_USD\n",
    "spend_test = total.query('Campaign_Name == \"Test Campaign\"').Spend_USD"
   ]
  },
  {
   "cell_type": "code",
   "execution_count": 97,
   "id": "4e680e81-9c5f-416d-a907-38a7ce69d87b",
   "metadata": {},
   "outputs": [
    {
     "data": {
      "text/html": [
       "<div>\n",
       "<style scoped>\n",
       "    .dataframe tbody tr th:only-of-type {\n",
       "        vertical-align: middle;\n",
       "    }\n",
       "\n",
       "    .dataframe tbody tr th {\n",
       "        vertical-align: top;\n",
       "    }\n",
       "\n",
       "    .dataframe thead th {\n",
       "        text-align: right;\n",
       "    }\n",
       "</style>\n",
       "<table border=\"1\" class=\"dataframe\">\n",
       "  <thead>\n",
       "    <tr style=\"text-align: right;\">\n",
       "      <th></th>\n",
       "      <th>T</th>\n",
       "      <th>dof</th>\n",
       "      <th>alternative</th>\n",
       "      <th>p-val</th>\n",
       "      <th>CI95%</th>\n",
       "      <th>cohen-d</th>\n",
       "      <th>BF10</th>\n",
       "      <th>power</th>\n",
       "    </tr>\n",
       "  </thead>\n",
       "  <tbody>\n",
       "    <tr>\n",
       "      <th>T-test</th>\n",
       "      <td>2.969992</td>\n",
       "      <td>57.843297</td>\n",
       "      <td>two-sided</td>\n",
       "      <td>0.00433</td>\n",
       "      <td>[89.53, 459.74]</td>\n",
       "      <td>0.766849</td>\n",
       "      <td>9.225</td>\n",
       "      <td>0.831602</td>\n",
       "    </tr>\n",
       "  </tbody>\n",
       "</table>\n",
       "</div>"
      ],
      "text/plain": [
       "               T        dof alternative    p-val            CI95%   cohen-d  \\\n",
       "T-test  2.969992  57.843297   two-sided  0.00433  [89.53, 459.74]  0.766849   \n",
       "\n",
       "         BF10     power  \n",
       "T-test  9.225  0.831602  "
      ]
     },
     "execution_count": 97,
     "metadata": {},
     "output_type": "execute_result"
    }
   ],
   "source": [
    "pg.ttest(spend_test, spend_control,paired=False, correction=True)"
   ]
  },
  {
   "cell_type": "code",
   "execution_count": null,
   "id": "5056a864-22d6-454a-8091-af8174d091b0",
   "metadata": {},
   "outputs": [],
   "source": []
  }
 ],
 "metadata": {
  "kernelspec": {
   "display_name": "Python [conda env:base] *",
   "language": "python",
   "name": "conda-base-py"
  },
  "language_info": {
   "codemirror_mode": {
    "name": "ipython",
    "version": 3
   },
   "file_extension": ".py",
   "mimetype": "text/x-python",
   "name": "python",
   "nbconvert_exporter": "python",
   "pygments_lexer": "ipython3",
   "version": "3.13.5"
  }
 },
 "nbformat": 4,
 "nbformat_minor": 5
}
